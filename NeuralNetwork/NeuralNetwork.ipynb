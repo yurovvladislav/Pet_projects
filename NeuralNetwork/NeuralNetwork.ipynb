{
 "cells": [
  {
   "attachments": {},
   "cell_type": "markdown",
   "metadata": {},
   "source": [
    "## 0. Подключаем необходимые библиотеки (в частности PyTorch)"
   ]
  },
  {
   "cell_type": "code",
   "execution_count": 1,
   "metadata": {},
   "outputs": [],
   "source": [
    "import torch\n",
    "import torch.nn as nn\n",
    "import torch.nn.functional as F\n",
    "import torchvision as tv\n",
    "from torch.cuda.amp import autocast, GradScaler\n",
    "from torchvision import transforms\n",
    "import os\n",
    "import cv2\n",
    "import numpy as np\n",
    "from PIL import Image"
   ]
  },
  {
   "attachments": {},
   "cell_type": "markdown",
   "metadata": {},
   "source": [
    "## 1. Формируем датасет"
   ]
  },
  {
   "cell_type": "code",
   "execution_count": 2,
   "metadata": {},
   "outputs": [],
   "source": [
    "transform = transforms.Compose([\n",
    "    transforms.Resize((64,64)),    \n",
    "    transforms.ToTensor(),\n",
    "    transforms.Normalize(mean=[0.485, 0.456, 0.406],\n",
    "                    std=[0.229, 0.224, 0.225] )\n",
    "    ])\n",
    "    \n",
    "train_path = \"./train/\"\n",
    "train_data = tv.datasets.ImageFolder(root=train_path,transform=transform)\n",
    "\n",
    "test_path = \"./test/\"\n",
    "test_data = tv.datasets.ImageFolder(root=test_path,transform=transform)"
   ]
  },
  {
   "attachments": {},
   "cell_type": "markdown",
   "metadata": {},
   "source": [
    "## 2. Создаём даталоадер"
   ]
  },
  {
   "cell_type": "code",
   "execution_count": 3,
   "metadata": {},
   "outputs": [],
   "source": [
    "batch_size = 32\n",
    "train_loader = torch.utils.data.DataLoader(train_data, batch_size=batch_size, shuffle=True)\n",
    "test_loader  = torch.utils.data.DataLoader(test_data, batch_size=batch_size, shuffle=True) "
   ]
  },
  {
   "attachments": {},
   "cell_type": "markdown",
   "metadata": {},
   "source": [
    "## 3. Прописываем архитектуру"
   ]
  },
  {
   "cell_type": "code",
   "execution_count": 4,
   "metadata": {},
   "outputs": [],
   "source": [
    "class NeuralNet(nn.Module):\n",
    "    def __init__(self):\n",
    "        super(NeuralNet, self).__init__()\n",
    "        self.linear1 = nn.Linear(12288, 500)\n",
    "        self.linear2 = nn.Linear(500, 300)\n",
    "        self.linear3 = nn.Linear(300, 100)\n",
    "        self.linear4 = nn.Linear(100, 50)\n",
    "        self.linear5 = nn.Linear(50,2)\n",
    "    \n",
    "    def forward(self, x):\n",
    "        x = x.view(-1, 12288)\n",
    "        x = F.relu(self.linear1(x))\n",
    "        x = F.relu(self.linear2(x))\n",
    "        x = F.relu(self.linear3(x))\n",
    "        x = F.relu(self.linear4(x))\n",
    "        x = self.linear5(x)\n",
    "        return x\n",
    "\n",
    "network = NeuralNet()\n"
   ]
  },
  {
   "attachments": {},
   "cell_type": "markdown",
   "metadata": {},
   "source": [
    "## 4. Определяем функцию потерь и оптимизатор"
   ]
  },
  {
   "cell_type": "code",
   "execution_count": 5,
   "metadata": {},
   "outputs": [
    {
     "data": {
      "text/plain": [
       "NeuralNet(\n",
       "  (linear1): Linear(in_features=12288, out_features=500, bias=True)\n",
       "  (linear2): Linear(in_features=500, out_features=300, bias=True)\n",
       "  (linear3): Linear(in_features=300, out_features=100, bias=True)\n",
       "  (linear4): Linear(in_features=100, out_features=50, bias=True)\n",
       "  (linear5): Linear(in_features=50, out_features=2, bias=True)\n",
       ")"
      ]
     },
     "execution_count": 5,
     "metadata": {},
     "output_type": "execute_result"
    }
   ],
   "source": [
    "loss_fn = nn.CrossEntropyLoss()\n",
    "optimizer = torch.optim.Adam(network.parameters(), lr=0.001)\n",
    "\n",
    "if torch.cuda.is_available():\n",
    "    device = torch.device(\"cuda\") \n",
    "else:\n",
    "    device = torch.device(\"cpu\")\n",
    "\n",
    "network.to(device)"
   ]
  },
  {
   "attachments": {},
   "cell_type": "markdown",
   "metadata": {},
   "source": [
    "## 5. Тренируем сеть"
   ]
  },
  {
   "cell_type": "code",
   "execution_count": 6,
   "metadata": {},
   "outputs": [
    {
     "name": "stdout",
     "output_type": "stream",
     "text": [
      "Epoch: 1, Training Loss: 0.72\n",
      "Epoch: 2, Training Loss: 0.67\n",
      "Epoch: 3, Training Loss: 0.61\n",
      "Epoch: 4, Training Loss: 0.54\n",
      "Epoch: 5, Training Loss: 0.43\n",
      "Epoch: 6, Training Loss: 0.37\n",
      "Epoch: 7, Training Loss: 0.26\n",
      "Epoch: 8, Training Loss: 0.23\n",
      "Epoch: 9, Training Loss: 0.28\n",
      "Epoch: 10, Training Loss: 0.49\n",
      "Epoch: 11, Training Loss: 0.24\n",
      "Epoch: 12, Training Loss: 0.22\n"
     ]
    }
   ],
   "source": [
    "n = 1.0\n",
    "epoch = 1\n",
    "while n > 0.2:\n",
    "    t_loss = 0.0\n",
    "    for batch in train_loader:\n",
    "        optimizer.zero_grad()\n",
    "        dt, answers = batch\n",
    "        dt = dt.to(device)\n",
    "        answers = answers.to(device)\n",
    "        pred = network(dt)\n",
    "        loss = loss_fn(pred, answers)\n",
    "        loss.backward()\n",
    "        optimizer.step()\n",
    "        t_loss += loss.data.item() * dt.size(0)\n",
    "    t_loss /= len(train_loader.dataset)\n",
    "    print('Epoch: {}, Training Loss: {:.2f}'.format(epoch, t_loss))\n",
    "    if epoch == 12: break\n",
    "    n = t_loss\n",
    "    epoch += 1"
   ]
  },
  {
   "attachments": {},
   "cell_type": "markdown",
   "metadata": {},
   "source": [
    "## 6. Тестируем (максимальное значение ошибки - 7)"
   ]
  },
  {
   "cell_type": "code",
   "execution_count": 7,
   "metadata": {},
   "outputs": [
    {
     "name": "stdout",
     "output_type": "stream",
     "text": [
      "Training Loss: 1.46\n"
     ]
    }
   ],
   "source": [
    "test_loss = 0.0\n",
    "for batch in test_loader:\n",
    "    dt, answers = batch\n",
    "    dt = dt.to(device)\n",
    "    answers = answers.to(device)\n",
    "    pred = network(dt)\n",
    "    loss = loss_fn(pred, answers)\n",
    "    test_loss += loss.data.item() * dt.size(0)\n",
    "test_loss /= len(test_loader.dataset)\n",
    "print('Training Loss: {:.2f}'.format(test_loss))"
   ]
  },
  {
   "cell_type": "code",
   "execution_count": 8,
   "metadata": {},
   "outputs": [
    {
     "name": "stdout",
     "output_type": "stream",
     "text": [
      "Номер: 1, Ответ: fruit\n",
      "Номер: 2, Ответ: vegetable\n",
      "Номер: 3, Ответ: fruit\n",
      "Номер: 4, Ответ: vegetable\n",
      "Номер: 5, Ответ: fruit\n",
      "Номер: 6, Ответ: fruit\n",
      "Номер: 7, Ответ: fruit\n",
      "Номер: 8, Ответ: fruit\n",
      "Номер: 9, Ответ: vegetable\n",
      "Номер: 10, Ответ: vegetable\n",
      "Номер: 11, Ответ: vegetable\n",
      "Номер: 12, Ответ: vegetable\n"
     ]
    },
    {
     "name": "stderr",
     "output_type": "stream",
     "text": [
      "C:\\Users\\Vladislav\\AppData\\Local\\Temp\\ipykernel_2632\\4168853091.py:6: UserWarning: Implicit dimension choice for softmax has been deprecated. Change the call to include dim=X as an argument.\n",
      "  predict = F.softmax(network(img))\n"
     ]
    }
   ],
   "source": [
    "options = ['fruit','vegetable']\n",
    "n = 1\n",
    "for i in range(12):\n",
    "    img = Image.open(f\"./using/{n}.jpg\") \n",
    "    img = transform(img).to(device)\n",
    "    predict = F.softmax(network(img))\n",
    "    predict = predict.argmax()\n",
    "    print('Номер: {}, Ответ: {}'.format(n, options[predict])) \n",
    "    n += 1"
   ]
  },
  {
   "attachments": {},
   "cell_type": "markdown",
   "metadata": {},
   "source": [
    "## 7. Сохраняем"
   ]
  },
  {
   "cell_type": "code",
   "execution_count": 18,
   "metadata": {},
   "outputs": [],
   "source": [
    "torch.save(network, \"network\") \n",
    "network = torch.load(\"network\")  "
   ]
  }
 ],
 "metadata": {
  "kernelspec": {
   "display_name": "Python 3",
   "language": "python",
   "name": "python3"
  },
  "language_info": {
   "codemirror_mode": {
    "name": "ipython",
    "version": 3
   },
   "file_extension": ".py",
   "mimetype": "text/x-python",
   "name": "python",
   "nbconvert_exporter": "python",
   "pygments_lexer": "ipython3",
   "version": "3.11.3"
  },
  "orig_nbformat": 4
 },
 "nbformat": 4,
 "nbformat_minor": 2
}
